{
  "nbformat": 4,
  "nbformat_minor": 0,
  "metadata": {
    "colab": {
      "provenance": [],
      "authorship_tag": "ABX9TyNsmMxKuatE3tY6z3fvsZHe",
      "include_colab_link": true
    },
    "kernelspec": {
      "name": "python3",
      "display_name": "Python 3"
    },
    "language_info": {
      "name": "python"
    }
  },
  "cells": [
    {
      "cell_type": "markdown",
      "metadata": {
        "id": "view-in-github",
        "colab_type": "text"
      },
      "source": [
        "<a href=\"https://colab.research.google.com/github/IgoBlo/pythonCourse/blob/main/Python_2.ipynb\" target=\"_parent\"><img src=\"https://colab.research.google.com/assets/colab-badge.svg\" alt=\"Open In Colab\"/></a>"
      ]
    },
    {
      "cell_type": "markdown",
      "source": [
        "Множественное присваивание для переменных"
      ],
      "metadata": {
        "id": "SUv5TdPrOcw1"
      }
    },
    {
      "cell_type": "code",
      "execution_count": 1,
      "metadata": {
        "colab": {
          "base_uri": "https://localhost:8080/"
        },
        "id": "OlstFZY8KQ3a",
        "outputId": "ee90f1b4-770e-47d0-b9c5-4845a88f1ab4"
      },
      "outputs": [
        {
          "name": "stdout",
          "output_type": "stream",
          "text": [
            "1\n",
            "2\n",
            "3\n"
          ]
        }
      ],
      "source": [
        "num1, num2, num3 = input(), input(), input()"
      ]
    },
    {
      "cell_type": "code",
      "source": [
        "a=1\n",
        "b=2\n",
        "a,b=b,a\n",
        "print(a,b)"
      ],
      "metadata": {
        "colab": {
          "base_uri": "https://localhost:8080/"
        },
        "id": "fFY9lfRDO0Qk",
        "outputId": "d7a6e805-3316-42d5-96d3-600451368e3d"
      },
      "execution_count": 2,
      "outputs": [
        {
          "output_type": "stream",
          "name": "stdout",
          "text": [
            "2 1\n"
          ]
        }
      ]
    },
    {
      "cell_type": "markdown",
      "source": [
        "Узнаем, люите ли морожку?"
      ],
      "metadata": {
        "id": "Cn2ZYNARS2k-"
      }
    },
    {
      "cell_type": "code",
      "source": [
        "x = str(input('Вы любите мороженку?'))\n",
        "if x == 'да':\n",
        "  print('Я тоже')\n",
        "elif x == 'нет':\n",
        "  print('Ну и ладно')\n",
        "elif x == 'хз':\n",
        "  print(f'я запомнил тебя, {x}')"
      ],
      "metadata": {
        "colab": {
          "base_uri": "https://localhost:8080/"
        },
        "id": "chpVOSxOO8WK",
        "outputId": "65503d0b-9bba-44ce-aafd-6eaa359cd5cb"
      },
      "execution_count": 14,
      "outputs": [
        {
          "output_type": "stream",
          "name": "stdout",
          "text": [
            "Вы любите мороженку?хз\n",
            "я запомнил тебя, хз\n"
          ]
        }
      ]
    },
    {
      "cell_type": "markdown",
      "source": [
        "Добавили запрос наличия денег "
      ],
      "metadata": {
        "id": "LRmDvKf0SpN6"
      }
    },
    {
      "cell_type": "code",
      "source": [
        "x = str(input('Вы любите мороженку?'))\n",
        "if x == 'да':\n",
        "  money = str(input('А деньги есть?'))\n",
        "  if money == 'да':\n",
        "    print('Ты купил мороженку')\n",
        "  elif money == 'нет':\n",
        "    print('Нет денег - нет и морожки')\n",
        "elif x == 'нет':\n",
        "  print('Ну и ладно')\n",
        "elif x == 'хз':\n",
        "  print(f'я запомнил тебя, {x}')"
      ],
      "metadata": {
        "colab": {
          "base_uri": "https://localhost:8080/"
        },
        "id": "dn1PME_TRlrs",
        "outputId": "4f6bda2b-edc6-4a2d-ad9c-b6feebd305ec"
      },
      "execution_count": 17,
      "outputs": [
        {
          "output_type": "stream",
          "name": "stdout",
          "text": [
            "Вы любите мороженку?да\n",
            "А деньги есть?нет\n",
            "Нет денег - нет и морожки\n"
          ]
        }
      ]
    },
    {
      "cell_type": "markdown",
      "source": [
        "Проверка пароля"
      ],
      "metadata": {
        "id": "yJDHPiV6TgwF"
      }
    },
    {
      "cell_type": "code",
      "source": [
        "password = 'hren'\n",
        "vip_pass = '1'\n",
        "user_pass = str(input('В бар только по паролю. Ваш пароль?'))\n",
        "if password == user_pass:\n",
        "  print('ok')\n",
        "elif password == vip_pass:\n",
        "  print('god like')\n",
        "else:\n",
        "  print('ne ok')"
      ],
      "metadata": {
        "colab": {
          "base_uri": "https://localhost:8080/"
        },
        "id": "Qhm7f5XqSPUt",
        "outputId": "9d1446fa-4d5b-46c5-f927-0a9fe08a2ab2"
      },
      "execution_count": 23,
      "outputs": [
        {
          "output_type": "stream",
          "name": "stdout",
          "text": [
            "В бар только по паролю. Ваш пароль?1\n",
            "ne ok\n"
          ]
        }
      ]
    },
    {
      "cell_type": "markdown",
      "source": [
        "+ Конструкция or в сравнении"
      ],
      "metadata": {
        "id": "KLQqe6GcVsiG"
      }
    },
    {
      "cell_type": "code",
      "source": [
        "password1 = 'may'\n",
        "password2 = 'june'\n",
        "user_pass = str(input('В бар только по паролю. Ваш пароль?'))\n",
        "if user_pass == password1 or user_pass == password2:\n",
        "  print('ok')\n",
        "else:\n",
        "  print('ne ok')\n"
      ],
      "metadata": {
        "colab": {
          "base_uri": "https://localhost:8080/"
        },
        "id": "hzsSi2HLVJKF",
        "outputId": "ed0c3db5-234a-43af-f481-d9cbf6f863fb"
      },
      "execution_count": 25,
      "outputs": [
        {
          "output_type": "stream",
          "name": "stdout",
          "text": [
            "В бар только по паролю. Ваш пароль?asd\n",
            "ne ok\n"
          ]
        }
      ]
    },
    {
      "cell_type": "code",
      "source": [
        "password1 = 'may'\n",
        "password2 = 'june'\n",
        "user_pass1 = str(input('В бар только по паролю. Ваш пароль1?'))\n",
        "user_pass2 = str(input('В бар только по паролю. Ваш пароль1?'))\n",
        "if user_pass1 == password1 and user_pass2 == password2:\n",
        "  print('ok')\n",
        "else:\n",
        "  print('ne ok')\n"
      ],
      "metadata": {
        "colab": {
          "base_uri": "https://localhost:8080/"
        },
        "id": "zoM9Qn4iVx_i",
        "outputId": "bcd3d2f8-c023-45a8-abe7-0900362b08b5"
      },
      "execution_count": 27,
      "outputs": [
        {
          "output_type": "stream",
          "name": "stdout",
          "text": [
            "В бар только по паролю. Ваш пароль1?d\n",
            "В бар только по паролю. Ваш пароль1?june\n",
            "ne ok\n"
          ]
        }
      ]
    },
    {
      "cell_type": "markdown",
      "source": [
        "Проверка слов на начальные и конечные символы!"
      ],
      "metadata": {
        "id": "i6AuYTy1WjQv"
      }
    },
    {
      "cell_type": "code",
      "source": [
        "word = str(input('Введите слово на букву С и заканчивающуюся на Ж\\n'))\n",
        "if word[0] == 'с' and word[-1] == 'ж':\n",
        "  print('top')\n",
        "else:\n",
        "  print('try again')"
      ],
      "metadata": {
        "colab": {
          "base_uri": "https://localhost:8080/"
        },
        "id": "7aZGNCXaWpi6",
        "outputId": "13a1e770-b7cb-4dca-b9cc-f51e92bf675e"
      },
      "execution_count": 30,
      "outputs": [
        {
          "output_type": "stream",
          "name": "stdout",
          "text": [
            "Введите слово на букву С и заканчивающуюся на Ж\n",
            "сж\n",
            "top\n"
          ]
        }
      ]
    },
    {
      "cell_type": "code",
      "source": [
        "name = 'dfdfafwefwefwesdfs'\n",
        "print(len(name))"
      ],
      "metadata": {
        "colab": {
          "base_uri": "https://localhost:8080/"
        },
        "id": "5HC04WrQXyOu",
        "outputId": "0c55f449-56ef-430d-9974-4998dbedd39e"
      },
      "execution_count": 33,
      "outputs": [
        {
          "output_type": "stream",
          "name": "stdout",
          "text": [
            "18\n"
          ]
        }
      ]
    },
    {
      "cell_type": "markdown",
      "source": [
        "Круто, если число делится на три и количество цифр в нем делится на три"
      ],
      "metadata": {
        "id": "UzKeQUT1ZlFR"
      }
    },
    {
      "cell_type": "code",
      "source": [
        "num = input('Введите свое число\\n')\n",
        "x = int(num)% 3\n",
        "y = len(num)% 3\n",
        "if x == 0 and y == 0:\n",
        "  print('top')\n",
        "else:\n",
        "  print('try again')"
      ],
      "metadata": {
        "colab": {
          "base_uri": "https://localhost:8080/"
        },
        "id": "a9Wf4ISTZjAZ",
        "outputId": "7e5e4c1d-29d2-44f0-8e95-1eb40e27c732"
      },
      "execution_count": 47,
      "outputs": [
        {
          "output_type": "stream",
          "name": "stdout",
          "text": [
            "Введите свое число\n",
            "333\n",
            "top\n"
          ]
        }
      ]
    }
  ]
}