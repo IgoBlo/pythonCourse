{
  "nbformat": 4,
  "nbformat_minor": 0,
  "metadata": {
    "colab": {
      "provenance": [],
      "authorship_tag": "ABX9TyOE7vbKbo/ufJ9hor4GYQcw",
      "include_colab_link": true
    },
    "kernelspec": {
      "name": "python3",
      "display_name": "Python 3"
    },
    "language_info": {
      "name": "python"
    }
  },
  "cells": [
    {
      "cell_type": "markdown",
      "metadata": {
        "id": "view-in-github",
        "colab_type": "text"
      },
      "source": [
        "<a href=\"https://colab.research.google.com/github/IgoBlo/pythonCourse/blob/main/Python_3.ipynb\" target=\"_parent\"><img src=\"https://colab.research.google.com/assets/colab-badge.svg\" alt=\"Open In Colab\"/></a>"
      ]
    },
    {
      "cell_type": "code",
      "execution_count": null,
      "metadata": {
        "colab": {
          "base_uri": "https://localhost:8080/"
        },
        "id": "VmfHAODnuElq",
        "outputId": "600d17ea-35a8-4fa4-adc1-bd405fb049ec"
      },
      "outputs": [
        {
          "output_type": "stream",
          "name": "stdout",
          "text": [
            "съел одну\n",
            "съел одну\n",
            "съел одну\n",
            "съел одну\n",
            "кончились\n"
          ]
        }
      ],
      "source": [
        "jelly_count = 4 \n",
        "while jelly_count != 0:\n",
        "    jelly_count = jelly_count - 1\n",
        "    print('съел одну')\n",
        "print('кончились')"
      ]
    },
    {
      "cell_type": "markdown",
      "source": [
        "Запрашивать пароль до тех пор, пока не будет введен корректный"
      ],
      "metadata": {
        "id": "1GeHk15Nux_0"
      }
    },
    {
      "cell_type": "code",
      "source": [
        "pass1 = 'truepass'\n",
        "user_pass = str(input('Pass plz\\n'))\n",
        "while pass1 != user_pass:\n",
        "  print('Incorrect')\n",
        "  user_pass = str(input('Pass plz\\n'))\n",
        "print('Сorrect')"
      ],
      "metadata": {
        "colab": {
          "base_uri": "https://localhost:8080/"
        },
        "id": "RwMmJ2JiutIp",
        "outputId": "8c9623cb-e777-4057-982b-34fd642efb12"
      },
      "execution_count": null,
      "outputs": [
        {
          "output_type": "stream",
          "name": "stdout",
          "text": [
            "Pass plz\n",
            "pas\n",
            "Incorrect\n",
            "Pass plz\n",
            "sad\n",
            "Incorrect\n",
            "Pass plz\n",
            "truepass\n",
            "Сorrect\n"
          ]
        }
      ]
    },
    {
      "cell_type": "markdown",
      "source": [
        "Отгадать число"
      ],
      "metadata": {
        "id": "XhliOHa8weJV"
      }
    },
    {
      "cell_type": "code",
      "source": [
        "true_digit = 6\n",
        "user_digit = int(input(\"Отгадай число!\"))\n",
        "while true_digit != user_digit:\n",
        "  if true_digit < user_digit:\n",
        "    user_digit = int(input(\"Не угадал, загаданное число меньше. Попробуй снова\\n\"))\n",
        "  elif true_digit > user_digit:\n",
        "    user_digit = int(input(\"Не угадал, загаданное число больше. Попробуй снова\\n\"))\n",
        "print('Победа!')"
      ],
      "metadata": {
        "colab": {
          "base_uri": "https://localhost:8080/"
        },
        "id": "JDK12oTzwdoM",
        "outputId": "0dd0947f-df67-4c05-f6c5-696c11d508cc"
      },
      "execution_count": null,
      "outputs": [
        {
          "output_type": "stream",
          "name": "stdout",
          "text": [
            "Отгадай число!3\n",
            "Не угадал, загаданное число больше. Попробуй снова7\n",
            "Не угадал, загаданное число меньше. Попробуй снова6\n",
            "Победа!\n"
          ]
        }
      ]
    },
    {
      "cell_type": "markdown",
      "source": [
        "for"
      ],
      "metadata": {
        "id": "vSL67SdX0DbG"
      }
    },
    {
      "cell_type": "code",
      "source": [
        "for i in range(6,39,3):\n",
        "  print(i)"
      ],
      "metadata": {
        "colab": {
          "base_uri": "https://localhost:8080/"
        },
        "id": "CsJkhwqKzjSG",
        "outputId": "f12cf715-54cd-4d03-e69d-0439f9a2786e"
      },
      "execution_count": null,
      "outputs": [
        {
          "output_type": "stream",
          "name": "stdout",
          "text": [
            "6\n",
            "9\n",
            "12\n",
            "15\n",
            "18\n",
            "21\n",
            "24\n",
            "27\n",
            "30\n",
            "33\n",
            "36\n"
          ]
        }
      ]
    },
    {
      "cell_type": "markdown",
      "source": [
        "Вывод списка"
      ],
      "metadata": {
        "id": "q6v8Cov52C_o"
      }
    },
    {
      "cell_type": "code",
      "source": [
        "x = ['1','3','4','5','5','8','99','99','99','99','9','99']\n",
        "for each in x:\n",
        "    print(each)"
      ],
      "metadata": {
        "colab": {
          "base_uri": "https://localhost:8080/"
        },
        "id": "29g_h45yzpcc",
        "outputId": "c5ef3122-6a86-4816-8f4b-54b11bbe241c"
      },
      "execution_count": null,
      "outputs": [
        {
          "output_type": "stream",
          "name": "stdout",
          "text": [
            "1\n",
            "3\n",
            "4\n",
            "5\n",
            "5\n",
            "8\n",
            "99\n",
            "99\n",
            "99\n",
            "99\n",
            "9\n",
            "99\n"
          ]
        }
      ]
    },
    {
      "cell_type": "markdown",
      "source": [
        "Заполняем список продуктов, пока не будет написано слово Х"
      ],
      "metadata": {
        "id": "bBtobv9A2qQ0"
      }
    },
    {
      "cell_type": "code",
      "source": [
        "x = []\n",
        "k = input('Введите слово\\n')\n",
        "while k != 'киви':\n",
        "  x.append(k)\n",
        "  k = input('Введите слово\\n')\n",
        "print('довольно продуктов')\n",
        "print(x)"
      ],
      "metadata": {
        "colab": {
          "base_uri": "https://localhost:8080/"
        },
        "id": "4ojh_-zp2Au9",
        "outputId": "e77dcbbf-8bd8-4afb-94e1-04671e16c7d8"
      },
      "execution_count": null,
      "outputs": [
        {
          "output_type": "stream",
          "name": "stdout",
          "text": [
            "Введите слово\n",
            "j\n",
            "Введите слово\n",
            "o\n",
            "Введите слово\n",
            "p\n",
            "Введите слово\n",
            "a\n",
            "Введите слово\n",
            "киви\n",
            "довольно продуктов\n",
            "['j', 'o', 'p', 'a']\n"
          ]
        }
      ]
    },
    {
      "cell_type": "code",
      "source": [
        "x = []\n",
        "k = int(input('Введите какое-нибудь число\\n'))\n",
        "while k > 0:\n",
        "  if k%2 == 0:\n",
        "    x.append(k)\n",
        "    k = int(input('Введите какое-нибудь число\\n'))\n",
        "  else:\n",
        "    k = int(input('Введите какое-нибудь число\\n'))\n",
        "print('отрицательное')\n",
        "print(x)"
      ],
      "metadata": {
        "colab": {
          "base_uri": "https://localhost:8080/"
        },
        "id": "eVuOhd2F4tXr",
        "outputId": "4813c80c-0099-4c88-e75e-4fce69516aad"
      },
      "execution_count": null,
      "outputs": [
        {
          "output_type": "stream",
          "name": "stdout",
          "text": [
            "Введите какое-нибудь число\n",
            "1\n",
            "Введите какое-нибудь число\n",
            "2\n",
            "Введите какое-нибудь число\n",
            "3\n",
            "Введите какое-нибудь число\n",
            "4\n",
            "Введите какое-нибудь число\n",
            "-1\n",
            "отрицательное\n",
            "[2, 4]\n"
          ]
        }
      ]
    }
  ]
}